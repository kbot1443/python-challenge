{
 "cells": [
  {
   "cell_type": "code",
   "execution_count": 2,
   "id": "bdad0b18",
   "metadata": {
    "scrolled": false
   },
   "outputs": [
    {
     "data": {
      "text/plain": [
       "'C:\\\\Users\\\\kevin\\\\Downloads\\\\python-challenge\\\\PyBank\\\\Analysis'"
      ]
     },
     "execution_count": 2,
     "metadata": {},
     "output_type": "execute_result"
    }
   ],
   "source": [
    "pwd"
   ]
  },
  {
   "cell_type": "code",
   "execution_count": 3,
   "id": "08c42016",
   "metadata": {},
   "outputs": [],
   "source": [
    "import os\n",
    "import csv\n",
    "csvpath = os.path.join('..','Resources','budget_data.csv')"
   ]
  },
  {
   "cell_type": "code",
   "execution_count": 6,
   "id": "bea2bb29",
   "metadata": {},
   "outputs": [
    {
     "name": "stdout",
     "output_type": "stream",
     "text": [
      "Financial Analysis\n",
      "----------------------------\n",
      "Total Months: 86\n",
      "Total: $21475215.00\n",
      "This is the average change: $-8311.11\n",
      "Greatest increase in Profits: Aug-16 ($1862002.00)\n",
      "Greatest increase in Profits: Feb-14 ($-1825558.00)\n"
     ]
    }
   ],
   "source": [
    "with open(csvpath, 'r') as csvfile:\n",
    "    csvreader = csv.reader(csvfile, delimiter=',')\n",
    "    \n",
    "    next(csvreader)\n",
    "    \n",
    "    secondrow = next(csvreader)\n",
    "    previousnetvalue = int(secondrow[1])\n",
    "    lengthchange = 0\n",
    "    largestincrease = 0\n",
    "    largestdecrease = 0\n",
    "    largestmonth = \"\"\n",
    "    lowestmonth = \"\"\n",
    "    totalnetvalue = 0.00\n",
    "    totalnetchange = 0\n",
    "    \n",
    "    for row in csvreader:\n",
    "        totalnetvalue += float(row[1])\n",
    "        currentnetvalue = int(row[1])\n",
    "        totalnetchange += (currentnetvalue - previousnetvalue)\n",
    "        if (currentnetvalue - previousnetvalue) > largestincrease:\n",
    "            largestincrease = (currentnetvalue - previousnetvalue)\n",
    "            largestmonth = row[0]\n",
    "        if (currentnetvalue - previousnetvalue) < largestdecrease:\n",
    "            largestdecrease = (currentnetvalue - previousnetvalue)\n",
    "            lowestmonth = row[0]\n",
    "        previousnetvalue = currentnetvalue\n",
    "        lengthchange += 1\n",
    "        \n",
    "            \n",
    "            \n",
    "averagechange = totalnetchange/lengthchange\n",
    "#row_count = len(csvfile.readlines())\n",
    "\n",
    "\n",
    "#-----------------------------------------------------------------------------------------\n",
    "print(\"Financial Analysis\")\n",
    "print(\"----------------------------\")\n",
    "\n",
    "print(f'Total Months: {(lengthchange+1)}')\n",
    "print(f'Total: ${totalnetvalue:.2f}')\n",
    "print(f'This is the average change: ${averagechange:.2f}')\n",
    "print(f'Greatest increase in Profits: {largestmonth} (${largestincrease:.2f})')\n",
    "print(f'Greatest increase in Profits: {lowestmonth} (${largestdecrease:.2f})')\n",
    "\n",
    "\n"
   ]
  },
  {
   "cell_type": "code",
   "execution_count": null,
   "id": "a71e8666",
   "metadata": {},
   "outputs": [],
   "source": []
  }
 ],
 "metadata": {
  "kernelspec": {
   "display_name": "Python 3 (ipykernel)",
   "language": "python",
   "name": "python3"
  },
  "language_info": {
   "codemirror_mode": {
    "name": "ipython",
    "version": 3
   },
   "file_extension": ".py",
   "mimetype": "text/x-python",
   "name": "python",
   "nbconvert_exporter": "python",
   "pygments_lexer": "ipython3",
   "version": "3.10.9"
  }
 },
 "nbformat": 4,
 "nbformat_minor": 5
}
