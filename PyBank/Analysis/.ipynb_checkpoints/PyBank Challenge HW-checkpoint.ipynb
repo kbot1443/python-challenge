{
 "cells": [
  {
   "cell_type": "code",
   "execution_count": 2,
   "id": "bdad0b18",
   "metadata": {
    "scrolled": false
   },
   "outputs": [
    {
     "data": {
      "text/plain": [
       "'C:\\\\Users\\\\kevin\\\\Downloads\\\\python-challenge\\\\PyBank\\\\Analysis'"
      ]
     },
     "execution_count": 2,
     "metadata": {},
     "output_type": "execute_result"
    }
   ],
   "source": [
    "pwd"
   ]
  },
  {
   "cell_type": "code",
   "execution_count": 3,
   "id": "08c42016",
   "metadata": {},
   "outputs": [],
   "source": [
    "import os\n",
    "import csv\n",
    "csvpath = os.path.join('..','Resources','budget_data.csv')"
   ]
  },
  {
   "cell_type": "code",
   "execution_count": 5,
   "id": "bea2bb29",
   "metadata": {},
   "outputs": [
    {
     "ename": "NameError",
     "evalue": "name 'Print' is not defined",
     "output_type": "error",
     "traceback": [
      "\u001b[1;31m---------------------------------------------------------------------------\u001b[0m",
      "\u001b[1;31mNameError\u001b[0m                                 Traceback (most recent call last)",
      "Cell \u001b[1;32mIn[5], line 36\u001b[0m\n\u001b[0;32m     31\u001b[0m averagechange \u001b[38;5;241m=\u001b[39m totalnetchange\u001b[38;5;241m/\u001b[39mlengthchange\n\u001b[0;32m     32\u001b[0m \u001b[38;5;66;03m#row_count = len(csvfile.readlines())\u001b[39;00m\n\u001b[0;32m     33\u001b[0m \n\u001b[0;32m     34\u001b[0m \n\u001b[0;32m     35\u001b[0m \u001b[38;5;66;03m#-----------------------------------------------------------------------------------------\u001b[39;00m\n\u001b[1;32m---> 36\u001b[0m \u001b[43mPrint\u001b[49m(\u001b[38;5;124m\"\u001b[39m\u001b[38;5;124mFinancial Analysis\u001b[39m\u001b[38;5;124m\"\u001b[39m)\n\u001b[0;32m     37\u001b[0m Print(\u001b[38;5;124m\"\u001b[39m\u001b[38;5;124m----------------------------\u001b[39m\u001b[38;5;124m\"\u001b[39m)\n\u001b[0;32m     39\u001b[0m \u001b[38;5;28mprint\u001b[39m(\u001b[38;5;124mf\u001b[39m\u001b[38;5;124m'\u001b[39m\u001b[38;5;124mTotal Months: \u001b[39m\u001b[38;5;132;01m{\u001b[39;00m(lengthchange\u001b[38;5;241m+\u001b[39m\u001b[38;5;241m1\u001b[39m)\u001b[38;5;132;01m}\u001b[39;00m\u001b[38;5;124m'\u001b[39m)\n",
      "\u001b[1;31mNameError\u001b[0m: name 'Print' is not defined"
     ]
    }
   ],
   "source": [
    "with open(csvpath, 'r') as csvfile:\n",
    "    csvreader = csv.reader(csvfile, delimiter=',')\n",
    "    \n",
    "    next(csvreader)\n",
    "    \n",
    "    secondrow = next(csvreader)\n",
    "    previousnetvalue = int(secondrow[1])\n",
    "    lengthchange = 0\n",
    "    largestincrease = 0\n",
    "    largestdecrease = 0\n",
    "    largestmonth = \"\"\n",
    "    lowestmonth = \"\"\n",
    "    totalnetvalue = 0.00\n",
    "    totalnetchange = 0\n",
    "    \n",
    "    for row in csvreader:\n",
    "        totalnetvalue += float(row[1])\n",
    "        currentnetvalue = int(row[1])\n",
    "        totalnetchange += (currentnetvalue - previousnetvalue)\n",
    "        if (currentnetvalue - previousnetvalue) > largestincrease:\n",
    "            largestincrease = (currentnetvalue - previousnetvalue)\n",
    "            largestmonth = row[0]\n",
    "        if (currentnetvalue - previousnetvalue) < largestdecrease:\n",
    "            largestdecrease = (currentnetvalue - previousnetvalue)\n",
    "            lowestmonth = row[0]\n",
    "        previousnetvalue = currentnetvalue\n",
    "        lengthchange += 1\n",
    "        \n",
    "            \n",
    "            \n",
    "averagechange = totalnetchange/lengthchange\n",
    "#row_count = len(csvfile.readlines())\n",
    "\n",
    "\n",
    "#-----------------------------------------------------------------------------------------\n",
    "print(\"Financial Analysis\")\n",
    "rint(\"----------------------------\")\n",
    "\n",
    "print(f'Total Months: {(lengthchange+1)}')\n",
    "print(f'Total: ${totalnetvalue:.2f}')\n",
    "print(f'This is the average change: ${averagechange:.2f}')\n",
    "print(f'Greatest increase in Profits: {largestmonth} (${largestincrease:.2f})')\n",
    "print(f'Greatest increase in Profits: {lowestmonth} (${largestdecrease:.2f})')\n",
    "\n",
    "\n"
   ]
  },
  {
   "cell_type": "code",
   "execution_count": null,
   "id": "a033b3ae",
   "metadata": {},
   "outputs": [],
   "source": []
  }
 ],
 "metadata": {
  "kernelspec": {
   "display_name": "Python 3 (ipykernel)",
   "language": "python",
   "name": "python3"
  },
  "language_info": {
   "codemirror_mode": {
    "name": "ipython",
    "version": 3
   },
   "file_extension": ".py",
   "mimetype": "text/x-python",
   "name": "python",
   "nbconvert_exporter": "python",
   "pygments_lexer": "ipython3",
   "version": "3.10.9"
  }
 },
 "nbformat": 4,
 "nbformat_minor": 5
}
